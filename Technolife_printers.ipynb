{
 "cells": [
  {
   "cell_type": "code",
   "execution_count": 1,
   "metadata": {},
   "outputs": [],
   "source": [
    "from selenium import webdriver\n",
    "from selenium.webdriver.common.by import By\n",
    "import time\n",
    "import pandas as pd"
   ]
  },
  {
   "cell_type": "code",
   "execution_count": 2,
   "metadata": {},
   "outputs": [],
   "source": [
    "driver = webdriver.Chrome()\n",
    "url = r'https://www.technolife.ir/'\n",
    "driver.maximize_window()\n",
    "driver.get(url)\n",
    "\n",
    "driver.find_element(By.XPATH, \"\"\"/html/body/div[1]/div[3]/header/div/header/nav/ul/li[7]/div/span\"\"\").click()\n",
    "driver.find_element(By.XPATH, \"\"\"/html/body/div[1]/div[3]/header/div/header/nav/ul/li[7]/div/div/nav/div/div/ul/li[1]/a\"\"\").click()\n",
    "\n",
    "# scroll\n",
    "avaliable = driver.find_element(By.CSS_SELECTOR, f\"\"\"#__next > div.w-full > main > div > div.mt-8.flex.gap-8 > div.h-full.w-full.flex-grow >\n",
    "                                 div.sticky.flex.w-full.items-start.bg-white.py-6.-mt-6.z-20.-mr-1.descktop_top_stuck > div.flex-grow > div > div:nth-child(2) > p\"\"\").text\n",
    "avaliable = avaliable.split(\" کالا\") # جدا کردن عدد\n",
    "avaliable = int(avaliable[0])\n",
    "total_scroll = int(avaliable / 3)\n",
    "scroll_to = 396\n",
    "for scroll_t in range(total_scroll):\n",
    "    scroll = driver.execute_script(f\"window.scrollTo(0, {scroll_to})\")\n",
    "    scroll_to += 396\n",
    "    time.sleep(1)\n",
    "scroll = driver.execute_script(\"window.scrollTo(0, 0)\")"
   ]
  },
  {
   "cell_type": "code",
   "execution_count": 3,
   "metadata": {},
   "outputs": [
    {
     "name": "stdout",
     "output_type": "stream",
     "text": [
      "['پرینتر کانن مدل imageclass MF3010 لیزری چندکاره', 'پرینتر اچ پی مدل Laser 107w لیزری', 'پرینتر اچ پی مدل LaserJet Pro MFP M28a لیزری چندکاره', 'پرینتر اچ پی مدل Laser MFP 135a لیزری چندکاره', 'پرینتر کانن مدل imageCLASS MF235 لیزری چندکاره', 'پرینتر اچ پی مدل LaserJet Pro M404dw لیزری', 'پرینتر اچ پی مدل LaserJet M111a لیزری', 'پرینتر اپسون مدل L5290', 'پرینتر اچ پی مدل Neverstop Laser 1000A لیزری', 'پرینتر اچ پی مدل LaserJet Pro M304a لیزری', 'پرینتر اچ پی مدل LaserJet Pro MFP M130nw لیزری چندکاره', 'پرینتر اچ پی مدل Laser 107a لیزری', 'پرینتر اپسون مدل EcoTank L3260 جوهر افشان چندکاره', 'پرینتر اپسون مدل L3210 جوهرافشان', 'پرینتر اپسون مدل L3211 جوهرافشان', 'پرینتر اچ پی مدل LaserJet M211dw لیزری', 'پرینتر اچ پی مدل LaserJet Pro M255dw لیزری رنگی', 'پرینتر اولیوتی مدل PR2 Plus Display سوزنی', 'پرینتر میوا مدل TP-UNW حرارتی', 'پرینتر کانن مدل imageCLASS LBP6030 لیزری', 'پرینتر اچ پی مدل LaserJet Pro MFP M227fdw لیزری', 'پرینتر اچ پی مدل Color LaserJet Pro MFP M283fdw لیزری رنگی چندکاره', 'پرینتر کانن مدل imageCLASS LBP6033', 'پرینتر اچ پی مدل Color LaserJet Pro MFP M479dw چندکاره لیزری', 'پرینتر اچ پی مدل LaserJet MFP M725dn لیزری چند کاره', 'پرینتر اچ پی مدل LaserJet MFP M443nda لیزری چند کاره', 'پرینتر میوا مدل TP-1200 حرارتی', 'پرینتر میوا مدل MBP 1000 لیبل زن', 'پرینتر اپسون مدل EcoTank L121 جوهر افشان', 'پرینتر برادر مدل MFC-L2750DW لیزری چندکاره', 'پرینتر اچ\\u200c پی مدل LaserJet MFP M438n لیزری چندکاره', 'پرینتر اچ\\u200c پی مدل LaserJet Pro M203dn لیزری', 'پرینتر میوا مدل MBP 4200 لیبل زن', 'پرینتر میوا مدل MBP 4300 لیبل زن', 'پرینتر میوا مدل TP-UN حرارتی', 'پرینتر اپسون مدل L805 جوهرافشان', 'پرینتر برادر مدل MFC-L8690CDW لیزری رنگی چندکاره', 'پرینتر اچ پی مدل LaserJet Enterprise M554dn لیزری رنگی', 'پرینتر اچ پی مدل LaserJet Pro CP5225dn لیزری رنگی', 'پرینتر اچ پی مدل Color LaserJet Pro M454dw لیزری رنگی', 'پرینتر اچ پی مدل Color LaserJet Enterprise M751dn لیزری رنگی', 'پرینتر اچ پی مدل LaserJet Enterprise M455dn لیزری رنگی', 'پرینتر اچ پی مدل Color LaserJet Enterprise M653dn لیزری رنگی', 'پرینتر اچ پی مدل LaserJet Pro M404dn لیزری', 'پرینتر برادر مدل MFC-L5755DW لیزری چندکاره', 'پرینتر اچ پی مدل LaserJet Pro 500 color MFP M570dw لیزری رنگی چندکاره', 'پرینتر اچ پی مدل Color LaserJet MFP 179fnw لیزری رنگی چندکاره', 'پرینتر اچ پی مدل Laser MFP 135w لیزری چندکاره', 'پرینتر اچ پی مدل LaserJet Pro M12w لیزری', 'پرینتر اچ پی مدل LaserJet Enterprise M608n لیزری', 'پرینتر اچ پی مدل LaserJet Pro MFP M428fdn لیزری چندکاره', 'پرینتر اچ پی مدل LaserJet Pro MFP M182n لیزری رنگی چندکاره', 'پرینتر اچ پی مدل LaserJet Enterprise M607n لیزری', 'پرینتر اچ پی مدل LaserJet Enterprise M607dn لیزری', 'پرینتر اچ پی مدل Pro M435NW لیزری', 'پرینتر اچ پی مدل LaserJet MFP M436n لیزری چندکاره', 'پرینتر اچ پی مدل LaserJet MFP M442dn لیزری چندکاره', 'پرینتر اچ پی مدل Color LaserJet Enterprise M555dn لیزری', 'پرینتر اچ پی مدل LaserJet Pro MFP M183fw لیزری چندکاره', 'پرینتر اچ پی مدل LaserJet Pro MFP M281fdn لیزری رنگی', 'پرینتر اچ پی مدل Color LaserJet Pro MFP M283fdn لیزری چندکاره', 'پرینتر اچ پی مدل Color LaserJet Pro MFP M479fnw لیزری چندکاره', 'پرینتر اچ پی مدل LaserJet Enterprise 700 M712dn لیزری', 'پرینتر اچ پی مدل Color LaserJet Pro MFP M479fdn لیزری رنگی', 'پرینتر اچ پی مدل Color LaserJet Pro MFP M479fdw لیزری رنگی', 'پرینتر اچ پی مدل LaserJet Pro M404n لیزری', 'پرینتر اچ\\u200c پی مدل LaserJet Pro M402dne لیزری', 'پرینتر کانن مدل imageCLASS LBP6018w لیزری', 'پرینتر کانن مدل LASER SHOT LBP2900', 'پرینتر اپسون مدل LQ-350', 'پرینتر اپسون مدل Eco Tank L3256 چندکاره', 'پلاتر اچ پی مدل DesignJet T1700 جوهرافشان رنگی', 'پرینتر اپسون مدل L3250 جوهر افشان چندکاره', 'پرینتر کانن مدل imageCLASS LBP6030w لیزری', 'پرینتر اچ\\u200c پی مدل LaserJet Enterprise M507dn لیزری', 'پرینتر کانن مدل i-Sensys LBP6030W لیزری', 'پرینتر زد ای سی مدل ZP400-E لیبل زن', 'پرینتر اپسون مدل L4150 جوهرافشان چندکاره', 'پرینتر اپسون مدل L5190 جوهرافشان چندکاره', 'پرینتر اپسون مدل L1800 جوهرافشان', 'پرینتر اپسون مدل L850 جوهرافشان چندکاره', 'پرینتر کانن مدل i-SENSYS MF445dw لیزری چندکاره', 'پرینتر کانن مدل i-SENSYS MF443dw لیزری چندکاره', 'پرینتر کانن مدل i-SENSYS LBP226DW لیزری', 'پرینتر کانن مدل i-SENSYS LBP223dw لیزری', 'پرینتر اپسون مدل L3160 جوهرافشان', 'پرینتر اپسون مدل L3116 جوهرافشان', 'پرینتر اپسون مدل EcoTank L1250 جوهرافشان', 'پرینتر اپسون مدل L1110 جوهرافشان', 'پرینتر کانن مدل i-Sensys LBP6030B لیزری', 'پرینتر اپسون مدل EcoTank L3150 جوهر افشان چندکاره', 'پرینتر اپسون مدل L3110 جوهر افشان چندکاره', 'پرینتر کانن مدل i-Sensys MF237w لیزری چندکاره با گوشی اورجینال', 'پرینتر کانن مدل i-Sensys MF237w لیزری چندکاره', 'پرینتر اچ پی مدل M130FN لیزری چندکاره', 'پرینتر اپسون مدل L810 جوهر افشان رنگی', 'پرینتر اپسون مدل L1300 جوهر افشان', 'پرینتر اچ پی مدل LaserJet Pro M102w لیزری', 'پرینتر برادر مدل MFC-L2715DW لیزری', 'پرینتر برادر مدل HL-L3270CDW لیزری', 'پرینتر اچ پی مدل LaserJet Enterprise MFP M430f لیزری چندکاره', 'پرینتر اچ پی مدل LaserJet Pro CP5225n لیزری رنگی', 'پرینتر اچ پی مدل Color LaserJet Enterprise M553dn لیزری رنگی', 'پرینتر اچ پی مدل Color LaserJet Pro M454dn لیزری رنگی', 'پرینتر اچ پی مدل Color Laser 150nw لیزری رنگی', 'پرینتر اچ پی مدل LaserJet Enterprise M611dn لیزری', 'پرینتر اچ پی مدل Color LaserJet Enterprise M652dn لیزری رنگی', 'پرینتر اچ پی مدل LaserJet P2035 لیزری', 'پرینتر اچ پی مدل Color Laser 150a لیزری رنگی', 'پرینتر اچ پی مدل LaserJet MFP M236sdw لیزری چندکاره', 'پرینتر اچ پی مدل LaserJet MFP M236sdn لیزری چندکاره', 'پرینتر اچ پی مدل LaserJet MFP M236d لیزری چندکاره', 'پرینتر اچ پی مدل LaserJet MFP M141w لیزری چندکاره', 'پرینتر اچ پی مدل Color LaserJet Enterprise MFP M480f لیزری رنگی چندکاره', 'پرینتر اچ پی مدل LaserJet Pro MFP M428fdw لیزری چندکاره', 'پرینتر اچ پی مدل Laser MFP 137fnw لیزری چندکاره', 'پرینتر اچ پی مدل LaserJet MFP M141a لیزری چندکاره', 'پرینتر اچ پی مدل LaserJet Pro M436dn لیزری چندکاره', 'پرینتر اچ پی مدل LaserJet Pro M15w لیزری', 'پرینتر اچ پی مدل LaserJet Pro M501dn لیزری', 'پرینتر اچ پی مدل LaserJet Pro MFP M130fw لیزری چندکاره', 'پرینتر اچ پی مدل LaserJet Pro MFP M227sdn لیزری چندکاره', 'پرینتر اچ پی مدل LaserJet MFP M236dw لیزری چندکاره', 'پرینتر اچ پی مدل LaserJet Pro M102a لیزری', 'پرینتر اچ پی مدل LaserJet Pro MFP M428dw لیزری چندکاره', 'پرینتر اچ پی مدل LaserJet Pro M203dw لیزری', 'پرینتر اچ پی مدل LaserJet Enterprise M608dn لیزری', 'پرینتر اچ پی مدل LaserJet Enterprise M609dn لیزری', 'پرینتر اچ پی مدل LaserJet Pro M706n لیزری', 'پرینتر اچ پی مدل LaserJet Pro MFP M26nw لیزری چندکاره', 'پرینتر اچ پی مدل LaserJet MFP M436nda لیزری چندکاره', 'پرینتر اچ پی مدل LaserJet Pro MFP M130a لیزری چندکاره', 'پرینتر اچ پی مدل LaserJet Pro M28w لیزری چندکاره', 'پرینتر اچ پی مدل LaserJet Enterprise M552dn لیزری رنگی', 'پرینتر اچ پی مدل LaserJet Pro MFP M181fw لیزری رنگی', 'پرینتر اچ پی مدل LaserJet Pro MFP M26a لیزری چندکاره', 'پرینتر اچ پی مدل Color Laser MFP 178nw لیزری رنگی چندکاره', 'پرینتر اچ پی مدل Color LaserJet Pro MFP M282nw لیزری رنگی چندکاره', 'پرینتر برادر مدل DCP-L2540DW چندکاره', 'پرینتر اچ پی مدل LaserJet Pro M12a لیزری', 'پرینتر اچ پی مدل LaserJet Pro M15a لیزری', 'پرینتر اچ پی مدل Laserjet M111w لیزری']\n",
      "142\n"
     ]
    }
   ],
   "source": [
    "title_t = driver.find_elements(By.XPATH, \"\"\"/html/body/div[1]/div[3]/main/div/div[2]/div[2]/div[2]/div/div/div[2]/a\"\"\")\n",
    "title_technolife = []\n",
    "for t in title_t:\n",
    "    tt = t.text\n",
    "    title_technolife.append(tt)\n",
    "print(title_technolife)\n",
    "print(len(title_technolife))"
   ]
  },
  {
   "cell_type": "code",
   "execution_count": 4,
   "metadata": {},
   "outputs": [
    {
     "name": "stdout",
     "output_type": "stream",
     "text": [
      "['1\\n8,750,000تومان\\n8,833,000\\nتومان', '1\\n5,640,000تومان\\n5,670,000\\nتومان', '2\\n8,249,000تومان\\n8,380,000\\nتومان', '8,100,000تومان', '4\\n15,990,000تومان\\n16,649,000\\nتومان', '14,699,000تومان', '4\\n4,249,000تومان\\n4,400,000\\nتومان', '6\\n16,450,000تومان\\n17,500,000\\nتومان', '4,999,000تومان', '9,499,000تومان', '14,700,000تومان', '3\\n4,740,000تومان\\n4,850,000\\nتومان', '10,850,000تومان', '6\\n7,590,000تومان\\n8,049,000\\nتومان', '3\\n7,770,000تومان\\n7,940,000\\nتومان', '6,849,000تومان', '16,099,000تومان', '2\\n35,300,000تومان\\n35,700,000\\nتومان', '3,390,000تومان', '3\\n4,990,000تومان\\n5,100,000\\nتومان', '18,389,000تومان', '2\\n24,599,000تومان\\n24,883,000\\nتومان', '4\\n4,888,000تومان\\n5,050,000\\nتومان', '27,699,000تومان', '178,000,000تومان', '60,999,000تومان', '4,150,000تومان', '7,490,000تومان', '6,250,000تومان', '4\\n17,999,000تومان\\n18,599,000\\nتومان', '29,499,000تومان', '12,399,000تومان', '5,399,000تومان', '5,650,000تومان', '3,350,000تومان', '5\\n16,300,000تومان\\n17,000,000\\nتومان', '32,499,000تومان', '25,698,000تومان', '48,999,000تومان', '22,399,000تومان', '164,979,000تومان', '24,449,000تومان', '87,998,000تومان', '1\\n13,880,000تومان\\n13,990,000\\nتومان', '23,319,000تومان', '129,500,000تومان', '19,599,000تومان', '9,050,000تومان', '18,199,000تومان', '63,989,000تومان', '30,000,000تومان', '14,899,000تومان', '56,998,000تومان', '58,999,000تومان', '68,199,000تومان', '59,898,000تومان', '34,448,000تومان', '27,699,000تومان', '23,099,000تومان', '56,799,000تومان', '24,999,000تومان', '29,289,000تومان', '68,299,000تومان', '29,799,000تومان', '30,379,000تومان', '13,699,000تومان', 'ناموجود', 'ناموجود', 'ناموجود', 'ناموجود', 'ناموجود', 'ناموجود', 'ناموجود', 'ناموجود', 'ناموجود', 'ناموجود', 'ناموجود', 'ناموجود', 'ناموجود', 'ناموجود', 'ناموجود', 'ناموجود', 'ناموجود', 'ناموجود', 'ناموجود', 'ناموجود', 'ناموجود', 'ناموجود', 'ناموجود', 'ناموجود', 'ناموجود', 'ناموجود', 'ناموجود', 'ناموجود', 'ناموجود', 'ناموجود', 'ناموجود', 'ناموجود', 'ناموجود', 'ناموجود', 'ناموجود', 'ناموجود', 'ناموجود', 'ناموجود', 'ناموجود', 'ناموجود', 'ناموجود', 'ناموجود', 'ناموجود', 'ناموجود', 'ناموجود', 'ناموجود', 'ناموجود', 'ناموجود', 'ناموجود', 'ناموجود', 'ناموجود', 'ناموجود', 'ناموجود', 'ناموجود', 'ناموجود', 'ناموجود', 'ناموجود', 'ناموجود', 'ناموجود', 'ناموجود', 'ناموجود', 'ناموجود', 'ناموجود', 'ناموجود', 'ناموجود', 'ناموجود', 'ناموجود', 'ناموجود', 'ناموجود', 'ناموجود', 'ناموجود', 'ناموجود', 'ناموجود', 'ناموجود', 'ناموجود', 'ناموجود']\n",
      "142\n"
     ]
    }
   ],
   "source": [
    "price_t1 = driver.find_elements(By.XPATH, \"\"\"/html/body/div[1]/div[3]/main/div/div[2]/div[2]/div[2]/div/div/div[3]/div\"\"\")\n",
    "price_list1 = []\n",
    "\n",
    "for i in price_t1:\n",
    "    ii = i.text\n",
    "    price_list1.append(ii)\n",
    "print(price_list1)\n",
    "print(len(price_list1))"
   ]
  },
  {
   "cell_type": "code",
   "execution_count": 5,
   "metadata": {},
   "outputs": [
    {
     "name": "stdout",
     "output_type": "stream",
     "text": [
      "['8,750,000تومان', '5,640,000تومان', '8,249,000تومان', '15,990,000تومان', '4,249,000تومان', '16,450,000تومان', '4,740,000تومان', '7,590,000تومان', '7,770,000تومان', '35,300,000تومان', '4,990,000تومان', '24,599,000تومان', '4,888,000تومان', '17,999,000تومان', '16,300,000تومان', '13,880,000تومان']\n",
      "16\n"
     ]
    }
   ],
   "source": [
    "price_t2 = driver.find_elements(By.XPATH, \"\"\"/html/body/div[1]/div[3]/main/div/div[2]/div[2]/div[2]/div/div/div[3]/div/div[2]/p\"\"\")\n",
    "price_list2 = []\n",
    "for p in price_t2:\n",
    "    pp = p.text\n",
    "    price_list2.append(pp)\n",
    "print(price_list2)\n",
    "print(len(price_list2))"
   ]
  },
  {
   "cell_type": "code",
   "execution_count": 6,
   "metadata": {},
   "outputs": [
    {
     "name": "stdout",
     "output_type": "stream",
     "text": [
      "['1\\n8,750,000\\n8,833,000\\n', '1\\n5,640,000\\n5,670,000\\n', '2\\n8,249,000\\n8,380,000\\n', '8,100,000', '4\\n15,990,000\\n16,649,000\\n', '14,699,000', '4\\n4,249,000\\n4,400,000\\n', '6\\n16,450,000\\n17,500,000\\n', '4,999,000', '9,499,000', '14,700,000', '3\\n4,740,000\\n4,850,000\\n', '10,850,000', '6\\n7,590,000\\n8,049,000\\n', '3\\n7,770,000\\n7,940,000\\n', '6,849,000', '16,099,000', '2\\n35,300,000\\n35,700,000\\n', '3,390,000', '3\\n4,990,000\\n5,100,000\\n', '18,389,000', '2\\n24,599,000\\n24,883,000\\n', '4\\n4,888,000\\n5,050,000\\n', '27,699,000', '178,000,000', '60,999,000', '4,150,000', '7,490,000', '6,250,000', '4\\n17,999,000\\n18,599,000\\n', '29,499,000', '12,399,000', '5,399,000', '5,650,000', '3,350,000', '5\\n16,300,000\\n17,000,000\\n', '32,499,000', '25,698,000', '48,999,000', '22,399,000', '164,979,000', '24,449,000', '87,998,000', '1\\n13,880,000\\n13,990,000\\n', '23,319,000', '129,500,000', '19,599,000', '9,050,000', '18,199,000', '63,989,000', '30,000,000', '14,899,000', '56,998,000', '58,999,000', '68,199,000', '59,898,000', '34,448,000', '27,699,000', '23,099,000', '56,799,000', '24,999,000', '29,289,000', '68,299,000', '29,799,000', '30,379,000', '13,699,000', 'ناموجود', 'ناموجود', 'ناموجود', 'ناموجود', 'ناموجود', 'ناموجود', 'ناموجود', 'ناموجود', 'ناموجود', 'ناموجود', 'ناموجود', 'ناموجود', 'ناموجود', 'ناموجود', 'ناموجود', 'ناموجود', 'ناموجود', 'ناموجود', 'ناموجود', 'ناموجود', 'ناموجود', 'ناموجود', 'ناموجود', 'ناموجود', 'ناموجود', 'ناموجود', 'ناموجود', 'ناموجود', 'ناموجود', 'ناموجود', 'ناموجود', 'ناموجود', 'ناموجود', 'ناموجود', 'ناموجود', 'ناموجود', 'ناموجود', 'ناموجود', 'ناموجود', 'ناموجود', 'ناموجود', 'ناموجود', 'ناموجود', 'ناموجود', 'ناموجود', 'ناموجود', 'ناموجود', 'ناموجود', 'ناموجود', 'ناموجود', 'ناموجود', 'ناموجود', 'ناموجود', 'ناموجود', 'ناموجود', 'ناموجود', 'ناموجود', 'ناموجود', 'ناموجود', 'ناموجود', 'ناموجود', 'ناموجود', 'ناموجود', 'ناموجود', 'ناموجود', 'ناموجود', 'ناموجود', 'ناموجود', 'ناموجود', 'ناموجود', 'ناموجود', 'ناموجود', 'ناموجود', 'ناموجود', 'ناموجود', 'ناموجود']\n",
      "142\n",
      "---------------------------------------------------------------------------------------------------------------------\n",
      "['8,750,000', '5,640,000', '8,249,000', '15,990,000', '4,249,000', '16,450,000', '4,740,000', '7,590,000', '7,770,000', '35,300,000', '4,990,000', '24,599,000', '4,888,000', '17,999,000', '16,300,000', '13,880,000']\n",
      "16\n",
      "---------------------------------------------------------------------------------------------------------------------\n",
      "['8,750,000', '5,640,000', '8,249,000', '8,100,000', '15,990,000', '14,699,000', '4,249,000', '16,450,000', '4,999,000', '9,499,000', '14,700,000', '4,740,000', '10,850,000', '7,590,000', '7,770,000', '6,849,000', '16,099,000', '35,300,000', '3,390,000', '4,990,000', '18,389,000', '24,599,000', '4,888,000', '27,699,000', '178,000,000', '60,999,000', '4,150,000', '7,490,000', '6,250,000', '17,999,000', '29,499,000', '12,399,000', '5,399,000', '5,650,000', '3,350,000', '16,300,000', '32,499,000', '25,698,000', '48,999,000', '22,399,000', '164,979,000', '24,449,000', '87,998,000', '13,880,000', '23,319,000', '129,500,000', '19,599,000', '9,050,000', '18,199,000', '63,989,000', '30,000,000', '14,899,000', '56,998,000', '58,999,000', '68,199,000', '59,898,000', '34,448,000', '27,699,000', '23,099,000', '56,799,000', '24,999,000', '29,289,000', '68,299,000', '29,799,000', '30,379,000', '13,699,000', 'ناموجود', 'ناموجود', 'ناموجود', 'ناموجود', 'ناموجود', 'ناموجود', 'ناموجود', 'ناموجود', 'ناموجود', 'ناموجود', 'ناموجود', 'ناموجود', 'ناموجود', 'ناموجود', 'ناموجود', 'ناموجود', 'ناموجود', 'ناموجود', 'ناموجود', 'ناموجود', 'ناموجود', 'ناموجود', 'ناموجود', 'ناموجود', 'ناموجود', 'ناموجود', 'ناموجود', 'ناموجود', 'ناموجود', 'ناموجود', 'ناموجود', 'ناموجود', 'ناموجود', 'ناموجود', 'ناموجود', 'ناموجود', 'ناموجود', 'ناموجود', 'ناموجود', 'ناموجود', 'ناموجود', 'ناموجود', 'ناموجود', 'ناموجود', 'ناموجود', 'ناموجود', 'ناموجود', 'ناموجود', 'ناموجود', 'ناموجود', 'ناموجود', 'ناموجود', 'ناموجود', 'ناموجود', 'ناموجود', 'ناموجود', 'ناموجود', 'ناموجود', 'ناموجود', 'ناموجود', 'ناموجود', 'ناموجود', 'ناموجود', 'ناموجود', 'ناموجود', 'ناموجود', 'ناموجود', 'ناموجود', 'ناموجود', 'ناموجود', 'ناموجود', 'ناموجود', 'ناموجود', 'ناموجود', 'ناموجود', 'ناموجود']\n",
      "142\n"
     ]
    }
   ],
   "source": [
    "import re\n",
    "price_list1 = [sub.replace('تومان', '') for sub in price_list1]\n",
    "price_list2 = [sub.replace('تومان', '') for sub in price_list2]\n",
    "\n",
    "print(price_list1)\n",
    "print(len(price_list1))\n",
    "print('---------------------------------------------------------------------------------------------------------------------')\n",
    "print(price_list2)\n",
    "print(len(price_list2))\n",
    "print('---------------------------------------------------------------------------------------------------------------------')\n",
    "\n",
    "\n",
    "def replace_items(first_list, second_list, target_character):\n",
    "    for i in range(len(first_list)):\n",
    "        if first_list[i].count(target_character) == 3:\n",
    "            first_list[i] = second_list[0]\n",
    "            second_list.pop(0)\n",
    "    return first_list\n",
    "\n",
    "target_character = \"\\n\"\n",
    "new_list = replace_items(price_list1, price_list2, target_character)\n",
    "print(new_list)\n",
    "print(len(new_list))"
   ]
  },
  {
   "cell_type": "code",
   "execution_count": 7,
   "metadata": {},
   "outputs": [
    {
     "data": {
      "text/html": [
       "<div>\n",
       "<style scoped>\n",
       "    .dataframe tbody tr th:only-of-type {\n",
       "        vertical-align: middle;\n",
       "    }\n",
       "\n",
       "    .dataframe tbody tr th {\n",
       "        vertical-align: top;\n",
       "    }\n",
       "\n",
       "    .dataframe thead th {\n",
       "        text-align: right;\n",
       "    }\n",
       "</style>\n",
       "<table border=\"1\" class=\"dataframe\">\n",
       "  <thead>\n",
       "    <tr style=\"text-align: right;\">\n",
       "      <th></th>\n",
       "      <th>Title</th>\n",
       "      <th>Price(T)</th>\n",
       "    </tr>\n",
       "  </thead>\n",
       "  <tbody>\n",
       "    <tr>\n",
       "      <th>0</th>\n",
       "      <td>پرینتر کانن مدل imageclass MF3010 لیزری چندکاره</td>\n",
       "      <td>8750000</td>\n",
       "    </tr>\n",
       "    <tr>\n",
       "      <th>1</th>\n",
       "      <td>پرینتر اچ پی مدل Laser 107w لیزری</td>\n",
       "      <td>5640000</td>\n",
       "    </tr>\n",
       "    <tr>\n",
       "      <th>2</th>\n",
       "      <td>پرینتر اچ پی مدل LaserJet Pro MFP M28a لیزری چ...</td>\n",
       "      <td>8249000</td>\n",
       "    </tr>\n",
       "    <tr>\n",
       "      <th>3</th>\n",
       "      <td>پرینتر اچ پی مدل Laser MFP 135a لیزری چندکاره</td>\n",
       "      <td>8100000</td>\n",
       "    </tr>\n",
       "    <tr>\n",
       "      <th>4</th>\n",
       "      <td>پرینتر کانن مدل imageCLASS MF235 لیزری چندکاره</td>\n",
       "      <td>15990000</td>\n",
       "    </tr>\n",
       "    <tr>\n",
       "      <th>...</th>\n",
       "      <td>...</td>\n",
       "      <td>...</td>\n",
       "    </tr>\n",
       "    <tr>\n",
       "      <th>137</th>\n",
       "      <td>پرینتر اچ پی مدل Color LaserJet Pro MFP M282nw...</td>\n",
       "      <td>ناموجود</td>\n",
       "    </tr>\n",
       "    <tr>\n",
       "      <th>138</th>\n",
       "      <td>پرینتر برادر مدل DCP-L2540DW چندکاره</td>\n",
       "      <td>ناموجود</td>\n",
       "    </tr>\n",
       "    <tr>\n",
       "      <th>139</th>\n",
       "      <td>پرینتر اچ پی مدل LaserJet Pro M12a لیزری</td>\n",
       "      <td>ناموجود</td>\n",
       "    </tr>\n",
       "    <tr>\n",
       "      <th>140</th>\n",
       "      <td>پرینتر اچ پی مدل LaserJet Pro M15a لیزری</td>\n",
       "      <td>ناموجود</td>\n",
       "    </tr>\n",
       "    <tr>\n",
       "      <th>141</th>\n",
       "      <td>پرینتر اچ پی مدل Laserjet M111w لیزری</td>\n",
       "      <td>ناموجود</td>\n",
       "    </tr>\n",
       "  </tbody>\n",
       "</table>\n",
       "<p>142 rows × 2 columns</p>\n",
       "</div>"
      ],
      "text/plain": [
       "                                                 Title  Price(T)\n",
       "0      پرینتر کانن مدل imageclass MF3010 لیزری چندکاره   8750000\n",
       "1                    پرینتر اچ پی مدل Laser 107w لیزری   5640000\n",
       "2    پرینتر اچ پی مدل LaserJet Pro MFP M28a لیزری چ...   8249000\n",
       "3        پرینتر اچ پی مدل Laser MFP 135a لیزری چندکاره   8100000\n",
       "4       پرینتر کانن مدل imageCLASS MF235 لیزری چندکاره  15990000\n",
       "..                                                 ...       ...\n",
       "137  پرینتر اچ پی مدل Color LaserJet Pro MFP M282nw...   ناموجود\n",
       "138               پرینتر برادر مدل DCP-L2540DW چندکاره   ناموجود\n",
       "139           پرینتر اچ پی مدل LaserJet Pro M12a لیزری   ناموجود\n",
       "140           پرینتر اچ پی مدل LaserJet Pro M15a لیزری   ناموجود\n",
       "141              پرینتر اچ پی مدل Laserjet M111w لیزری   ناموجود\n",
       "\n",
       "[142 rows x 2 columns]"
      ]
     },
     "execution_count": 7,
     "metadata": {},
     "output_type": "execute_result"
    }
   ],
   "source": [
    "data = {'Title': title_technolife,\n",
    "        'Price(T)': new_list}\n",
    "df = pd.DataFrame(data)\n",
    "df['Price(T)'] = df['Price(T)'].replace({',': ''}, regex=True)\n",
    "df"
   ]
  },
  {
   "cell_type": "code",
   "execution_count": 8,
   "metadata": {},
   "outputs": [
    {
     "data": {
      "text/html": [
       "<div>\n",
       "<style scoped>\n",
       "    .dataframe tbody tr th:only-of-type {\n",
       "        vertical-align: middle;\n",
       "    }\n",
       "\n",
       "    .dataframe tbody tr th {\n",
       "        vertical-align: top;\n",
       "    }\n",
       "\n",
       "    .dataframe thead th {\n",
       "        text-align: right;\n",
       "    }\n",
       "</style>\n",
       "<table border=\"1\" class=\"dataframe\">\n",
       "  <thead>\n",
       "    <tr style=\"text-align: right;\">\n",
       "      <th></th>\n",
       "      <th>Title</th>\n",
       "      <th>Price(T)</th>\n",
       "    </tr>\n",
       "  </thead>\n",
       "  <tbody>\n",
       "    <tr>\n",
       "      <th>0</th>\n",
       "      <td>پرینتر کانن مدل imageclass MF3010 لیزری چندکاره</td>\n",
       "      <td>8750000</td>\n",
       "    </tr>\n",
       "    <tr>\n",
       "      <th>1</th>\n",
       "      <td>پرینتر اچ پی مدل Laser 107w لیزری</td>\n",
       "      <td>5640000</td>\n",
       "    </tr>\n",
       "    <tr>\n",
       "      <th>2</th>\n",
       "      <td>پرینتر اچ پی مدل LaserJet Pro MFP M28a لیزری چ...</td>\n",
       "      <td>8249000</td>\n",
       "    </tr>\n",
       "    <tr>\n",
       "      <th>3</th>\n",
       "      <td>پرینتر اچ پی مدل Laser MFP 135a لیزری چندکاره</td>\n",
       "      <td>8100000</td>\n",
       "    </tr>\n",
       "    <tr>\n",
       "      <th>4</th>\n",
       "      <td>پرینتر کانن مدل imageCLASS MF235 لیزری چندکاره</td>\n",
       "      <td>15990000</td>\n",
       "    </tr>\n",
       "    <tr>\n",
       "      <th>...</th>\n",
       "      <td>...</td>\n",
       "      <td>...</td>\n",
       "    </tr>\n",
       "    <tr>\n",
       "      <th>61</th>\n",
       "      <td>پرینتر اچ پی مدل Color LaserJet Pro MFP M479fn...</td>\n",
       "      <td>29289000</td>\n",
       "    </tr>\n",
       "    <tr>\n",
       "      <th>62</th>\n",
       "      <td>پرینتر اچ پی مدل LaserJet Enterprise 700 M712d...</td>\n",
       "      <td>68299000</td>\n",
       "    </tr>\n",
       "    <tr>\n",
       "      <th>63</th>\n",
       "      <td>پرینتر اچ پی مدل Color LaserJet Pro MFP M479fd...</td>\n",
       "      <td>29799000</td>\n",
       "    </tr>\n",
       "    <tr>\n",
       "      <th>64</th>\n",
       "      <td>پرینتر اچ پی مدل Color LaserJet Pro MFP M479fd...</td>\n",
       "      <td>30379000</td>\n",
       "    </tr>\n",
       "    <tr>\n",
       "      <th>65</th>\n",
       "      <td>پرینتر اچ پی مدل LaserJet Pro M404n لیزری</td>\n",
       "      <td>13699000</td>\n",
       "    </tr>\n",
       "  </tbody>\n",
       "</table>\n",
       "<p>66 rows × 2 columns</p>\n",
       "</div>"
      ],
      "text/plain": [
       "                                                Title  Price(T)\n",
       "0     پرینتر کانن مدل imageclass MF3010 لیزری چندکاره   8750000\n",
       "1                   پرینتر اچ پی مدل Laser 107w لیزری   5640000\n",
       "2   پرینتر اچ پی مدل LaserJet Pro MFP M28a لیزری چ...   8249000\n",
       "3       پرینتر اچ پی مدل Laser MFP 135a لیزری چندکاره   8100000\n",
       "4      پرینتر کانن مدل imageCLASS MF235 لیزری چندکاره  15990000\n",
       "..                                                ...       ...\n",
       "61  پرینتر اچ پی مدل Color LaserJet Pro MFP M479fn...  29289000\n",
       "62  پرینتر اچ پی مدل LaserJet Enterprise 700 M712d...  68299000\n",
       "63  پرینتر اچ پی مدل Color LaserJet Pro MFP M479fd...  29799000\n",
       "64  پرینتر اچ پی مدل Color LaserJet Pro MFP M479fd...  30379000\n",
       "65          پرینتر اچ پی مدل LaserJet Pro M404n لیزری  13699000\n",
       "\n",
       "[66 rows x 2 columns]"
      ]
     },
     "execution_count": 8,
     "metadata": {},
     "output_type": "execute_result"
    }
   ],
   "source": [
    "df = df.drop(df[(df['Price(T)'] == 'ناموجود')].index)\n",
    "df"
   ]
  },
  {
   "cell_type": "code",
   "execution_count": 12,
   "metadata": {},
   "outputs": [
    {
     "name": "stdout",
     "output_type": "stream",
     "text": [
      "<class 'pandas.core.frame.DataFrame'>\n",
      "RangeIndex: 66 entries, 0 to 65\n",
      "Data columns (total 2 columns):\n",
      " #   Column    Non-Null Count  Dtype \n",
      "---  ------    --------------  ----- \n",
      " 0   Title     66 non-null     object\n",
      " 1   Price(T)  66 non-null     int64 \n",
      "dtypes: int64(1), object(1)\n",
      "memory usage: 1.2+ KB\n"
     ]
    }
   ],
   "source": [
    "df['Price(T)'] = pd.to_numeric(df['Price(T)'])\n",
    "df.info()"
   ]
  },
  {
   "cell_type": "code",
   "execution_count": 13,
   "metadata": {},
   "outputs": [
    {
     "name": "stdout",
     "output_type": "stream",
     "text": [
      "Mean price (Toman):\n"
     ]
    },
    {
     "data": {
      "text/plain": [
       "29454878.78787879"
      ]
     },
     "execution_count": 13,
     "metadata": {},
     "output_type": "execute_result"
    }
   ],
   "source": [
    "print('Mean price (Toman):')\n",
    "df['Price(T)'].mean()"
   ]
  },
  {
   "cell_type": "code",
   "execution_count": 14,
   "metadata": {},
   "outputs": [],
   "source": [
    "df.to_csv('project_technolife.csv')"
   ]
  }
 ],
 "metadata": {
  "kernelspec": {
   "display_name": "Python 3",
   "language": "python",
   "name": "python3"
  },
  "language_info": {
   "codemirror_mode": {
    "name": "ipython",
    "version": 3
   },
   "file_extension": ".py",
   "mimetype": "text/x-python",
   "name": "python",
   "nbconvert_exporter": "python",
   "pygments_lexer": "ipython3",
   "version": "3.9.0"
  },
  "orig_nbformat": 4
 },
 "nbformat": 4,
 "nbformat_minor": 2
}
